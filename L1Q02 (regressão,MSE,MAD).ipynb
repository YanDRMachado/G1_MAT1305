{
  "metadata": {
    "language_info": {
      "codemirror_mode": {
        "name": "python",
        "version": 3
      },
      "file_extension": ".py",
      "mimetype": "text/x-python",
      "name": "python",
      "nbconvert_exporter": "python",
      "pygments_lexer": "ipython3",
      "version": "3.8"
    },
    "kernelspec": {
      "name": "python",
      "display_name": "Python (Pyodide)",
      "language": "python"
    }
  },
  "nbformat_minor": 4,
  "nbformat": 4,
  "cells": [
    {
      "cell_type": "code",
      "source": "import matplotlib.pyplot as plt\nimport numpy as np\n# from autograd import grad\n# from autograd import hess\n\ndef model(x,w):\n    return w[0] + w[1]*x[1] + w[2]*x[2] #modelo que será utilizado na regressão\ndef MSE(w,x,y): #mean squared error\n    P = len(x[0,:])\n    cost = 0\n    for p in range(P):\n        #print(x[:,p])\n        cost += (model(x[:,p],w) - y[0][p])**2 #definição vista em aula\n        cost = cost/P\n    return cost",
      "metadata": {
        "trusted": true
      },
      "execution_count": null,
      "outputs": []
    },
    {
      "cell_type": "code",
      "source": "def grad_MSE(w,x,y): #cálculo da primeira derivada do MSE\n    #print(x)\n    N = len(x[:,0])\n    grad = np.zeros(N)\n    P = len(x[0,:])\n    for p in range(P):\n        #print(x[:,p])\n        #print(w)\n        #print(model(x[p,:], w))\n        grad += 2*(model(x[:,p], w) - y[0][p])*x[:,p] \n    grad /= P\n    return grad",
      "metadata": {
        "trusted": true
      },
      "execution_count": null,
      "outputs": []
    },
    {
      "cell_type": "code",
      "source": "def hess_MSE(w,x,y):#cálculo da hessiana a do MSE\n    N = len(x[:,0])\n    hess = np.zeros(N)\n    P = len(x[0,:])\n    #sugestão correção\n    #for p in range(P):\n    #    v = np.array(x[:,p])\n    #    v = v.reshape(-1,1)\n    #    v = np.matmul(v,np.transpose(v))\n    #    hessian = hessian + 2 * v\n    for p in range(P):\n        hess += 2*np.dot(x[:,p],x[:,p].T)\n    hess /= P\n    return hess",
      "metadata": {
        "trusted": true
      },
      "execution_count": null,
      "outputs": []
    },
    {
      "cell_type": "code",
      "source": "def MAD(w,x,y): #mean absolute deviation\n    cost = 0\n    for p in range(y.size):\n        x_p = x[:,p]\n        y_p = y[0][p]\n        cost += np.linalg.norm((model(x_p,w) - y_p)) #definição vista em aula\n    return cost/(y.size)",
      "metadata": {
        "trusted": true
      },
      "execution_count": null,
      "outputs": []
    },
    {
      "cell_type": "code",
      "source": "def newton(x, y, w0, grad, hess, max_its, eps = 1e-3): #método de newton\n    w1 = w0\n    w_h = [w0]\n    cost_h = []\n    for i in range (max_its):\n        w_new = w1 - grad(w1,x,y)/hess(w1,x,y)\n        cost_h.append(MSE(w_new,x,y))\n        w_h.append(w_new)\n        if np.linalg.norm(w_new - w1) < eps:\n            break\n        w1 = w_new\n    return w_h, cost_h",
      "metadata": {
        "trusted": true
      },
      "execution_count": null,
      "outputs": []
    },
    {
      "cell_type": "code",
      "source": "datapath = './'\ncsvname = datapath + '3d_linregress_data.csv'\ndata = np.loadtxt(csvname,delimiter=',')\nX = data[:-1,:]\nX = np.insert(X, 0, np.ones(50), axis=0)\nY = data[-1:,:]\n\nw = np.ones(3)\nmax_its = 200\n[w, cost] = newton(X, Y, w, grad_MSE, hess_MSE, max_its)\n\n\nN = len(X[:,0])\nP = len(X[0,:])\nmaxit = len(w)",
      "metadata": {
        "trusted": true
      },
      "execution_count": null,
      "outputs": []
    },
    {
      "cell_type": "code",
      "source": "for k in range(1,maxit,10):\n    plt.figure(figsize = (8,8))\n    print('MSE', k-1, MSE(w[k-1], X, Y))\n    print('MAD', k-1, MAD(w[k-1], X, Y))\n    for i in range(P):\n        if Y[0][i] > 0:\n            plt.scatter(X[1,i],X[2,i],c='b')\n        else:\n            plt.scatter(X[1,i],X[2,i],c='r')\n    x = np.linspace(0,1,100)\n    y = - (w[k-1][1]*x+w[k-1][0])/w[k-1][2]\n    plt.plot(x, y, 'g')\n    plt.show()",
      "metadata": {
        "trusted": true
      },
      "execution_count": null,
      "outputs": []
    },
    {
      "cell_type": "code",
      "source": "",
      "metadata": {},
      "execution_count": null,
      "outputs": []
    }
  ]
}