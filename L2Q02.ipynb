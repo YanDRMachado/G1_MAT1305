{
  "metadata": {
    "language_info": {
      "codemirror_mode": {
        "name": "python",
        "version": 3
      },
      "file_extension": ".py",
      "mimetype": "text/x-python",
      "name": "python",
      "nbconvert_exporter": "python",
      "pygments_lexer": "ipython3",
      "version": "3.8"
    },
    "kernelspec": {
      "name": "python",
      "display_name": "Python (Pyodide)",
      "language": "python"
    }
  },
  "nbformat_minor": 4,
  "nbformat": 4,
  "cells": [
    {
      "cell_type": "code",
      "source": "import numpy as np\nimport matplotlib.pyplot as plt\n# import statistics\n# import math\n# import pandas as pd\n# from autograd import grad\n\ndef pontos_2d(P): #função para gerar os pontos aleatórios\n    np.random.seed(1)\n    X = [5*np.random.random_sample(P,),5*np.random.random_sample(P,)]\n    X = np.array(X)\n    Y = np.sin(X[0,:]+X[1,:]) + 0.2 * np.random.random_sample(P,)\n    return X,Y",
      "metadata": {
        "trusted": true
      },
      "execution_count": null,
      "outputs": []
    },
    {
      "cell_type": "code",
      "source": "def f(v,x):\n    return np.sin(v[0] + x[0] * v[1] + x[1] * v[2])\n\ndef model(w,v,x):\n    a = w[0] + np.sin(v[0] + x[0] * v[1] + x[1] * v[2]) * w[1]\n    return a",
      "metadata": {
        "trusted": true
      },
      "execution_count": null,
      "outputs": []
    },
    {
      "cell_type": "code",
      "source": "def NL_regression(w,v,x,y):\n    P = len(x)\n    cost = 0\n    for p in range(P):\n        cost = cost + (model(w,v,x[:,p]) - y[p])**2\n    cost /= P\n    return cost\n\n    \ndef grad_NL_regression(w,v,x,y):\n    # P = len(x)\n    P = len(x[0,:]) #sugestão da correção\n    grad = np.zeros(5)\n    for p in range(P):\n        k = 2*(model(w,v,x[:,p]) - y[p])\n        grad[0] += k\n        grad[1] += k * np.sin(v[0] + x[0][p] * v[1] + x[1][p] * v[2])\n        grad[2] += k * np.cos(v[0] + x[0][p] * v[1] + x[1][p] * v[2]) * w[1]\n        grad[3] += k * np.cos(v[0] + x[0][p] * v[1] + x[1][p] * v[2]) * w[1] * x[0][p]\n        grad[4] += k * np.cos(v[0] + x[0][p] * v[1] + x[1][p] * v[2]) * w[1] * x[1][p]\n    grad /= P\n    return grad",
      "metadata": {
        "trusted": true
      },
      "execution_count": null,
      "outputs": []
    },
    {
      "cell_type": "code",
      "source": "def gradient_descent(x,y,alpha,max_its):\n    w_THETA = [1,1,1,1,1] # [w0,w1,v0,v1,v2]\n    w_THETA = np.array(w_THETA)\n    weight_history = [w_THETA]\n    w = np.zeros(2)\n    v = np.zeros(3)\n    w[0] = w_THETA[0]\n    w[1] = w_THETA[1]\n    v[0] = w_THETA[2]\n    v[1] = w_THETA[3]\n    v[2] = w_THETA[4]\n    \n    cost_history = [NL_regression(w,v,x,y)]\n    tol = 0.1\n    for k in range(max_its):\n        w_THETA = w_THETA - alpha * grad_NL_regression(w,v,x,y)\n        weight_history.append(w_THETA)\n        cost_history.append(NL_regression(w,v,x,y))\n        g = grad_NL_regression(w,v,x,y)\n        norm = np.linalg.norm(g)\n        if norm < tol:\n            alpha = alpha / 10\n            tol = tol / 10\n        w[0] = w_THETA[0]\n        w[1] = w_THETA[1]\n        v[0] = w_THETA[2]\n        v[1] = w_THETA[3]\n        v[2] = w_THETA[4]\n    return weight_history, cost_history",
      "metadata": {
        "trusted": true
      },
      "execution_count": null,
      "outputs": []
    },
    {
      "cell_type": "code",
      "source": "P = 500\n[X,Y] = pontos_2d(P)\nmax_its = 500\nalpha = 0.01\n[w_h,cost] = gradient_descent(X,Y,alpha,max_its)\nax = plt.axes(projection = '3d')\nax.view_init(15, 140)",
      "metadata": {
        "trusted": true
      },
      "execution_count": null,
      "outputs": []
    },
    {
      "cell_type": "code",
      "source": "#plot\nfor k in range(1,max_its,50):\n    for i in range(P):\n        ax.scatter(X[0,:], X[1,:],Y, c = Y, cmap='plasma', linewidth=1)\n    x = np.linspace(0,5,P)\n    y = np.linspace(0,5,P)\n    xplot, yplot = np.meshgrid(x,y)\n    w = np.zeros(2)\n    v = np.zeros(3)\n    w[0] = w_h[k][0]\n    w[1] = w_h[k][1]\n    v[0] = w_h[k][2]\n    v[1] = w_h[k][3]\n    v[2] = w_h[k][4]\n    z = w[0] + np.sin(v[0] + xplot*v[1] + yplot*v[2]) * w[1]\n    ax.plot_surface(xplot, yplot, z, alpha = 0.5, color='g')\n    plt.show()",
      "metadata": {
        "trusted": true
      },
      "execution_count": null,
      "outputs": []
    },
    {
      "cell_type": "code",
      "source": "",
      "metadata": {},
      "execution_count": null,
      "outputs": []
    }
  ]
}