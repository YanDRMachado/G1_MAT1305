{
  "metadata": {
    "language_info": {
      "codemirror_mode": {
        "name": "python",
        "version": 3
      },
      "file_extension": ".py",
      "mimetype": "text/x-python",
      "name": "python",
      "nbconvert_exporter": "python",
      "pygments_lexer": "ipython3",
      "version": "3.8"
    },
    "kernelspec": {
      "name": "python",
      "display_name": "Python (Pyodide)",
      "language": "python"
    }
  },
  "nbformat_minor": 4,
  "nbformat": 4,
  "cells": [
    {
      "cell_type": "code",
      "source": "import numpy as np\nimport matplotlib.pyplot as plt\n\n#exemplo de conjunto de pontos separável \n\ndef pontos_2d_separavel(w,P):\n    X = [np.ones(P),np.random.random_sample(P,), np.random.random_sample((P,))]\n    X = np.array(X)\n    Y = []\n    for i in range(P):\n        if X[2][i]*w[2] + X[1][i]*w[1] + X[0][i]*w[0] < 0:\n            Y.append(1)\n            X[2][i] += 0.1\n        else:\n            Y.append(-1)\n            X[2][i] -= 1\n    return X,Y",
      "metadata": {
        "trusted": true
      },
      "execution_count": null,
      "outputs": []
    },
    {
      "cell_type": "code",
      "source": "def pontos_2d_naoseparavel(w,P):\n    X = [np.ones(P),np.random.random_sample(P,),\n        np.random.random_sample((P,))]\n    X = np.array(X)\n    Y = []\n    for i in range(P):\n        if X[2][i]*w[2] + X[1][i]*w[1] + X[0][i]* w[0] < 0:\n            Y.append(1)\n            X[2][i] += 0.2\n        else:\n            Y.append(-1)\n            X[2][i] -= 0.5\n    return X,Y",
      "metadata": {
        "trusted": true
      },
      "execution_count": null,
      "outputs": []
    },
    {
      "cell_type": "code",
      "source": "P = 100\nw = np.array([-0.3, -0.8, 1])\n# print(X)\n# print(Y)\nN = 3\nW = np.ones(N)\nmax_its = 500\nalpha = 1\n\n#[X,Y] = pontos_2d_separavel(w,P)\n[X,Y] = pontos_2d_naoseparavel(w,P)",
      "metadata": {
        "trusted": true
      },
      "execution_count": null,
      "outputs": []
    },
    {
      "cell_type": "code",
      "source": "for k in range(1, 100, 50):\n    plt.figure(figsize = (8,8))\n    for i in range(P):\n        if Y[i] > 0:\n            plt.scatter(X[1,i],X[2,i],c='b')\n        else:\n            plt.scatter(X[1,i],X[2,i],c='r')\n    plt.show()",
      "metadata": {
        "trusted": true
      },
      "execution_count": null,
      "outputs": []
    },
    {
      "cell_type": "code",
      "source": "def g_lr_softmax(w,x,y):\n    P = len(x[0,:])\n    N = len(x[:,0])\n    cost = 0\n    for p in range(P):\n        c = np.dot(x[:,p],w)\n        cost = cost + np.log(1+np.exp(-y[p]*c))\n    cost = cost/P\n    return cost",
      "metadata": {
        "trusted": true
      },
      "execution_count": null,
      "outputs": []
    },
    {
      "cell_type": "code",
      "source": "def grad_lr_softmax(w,x,y):\n    P = len(x[0,:])\n    N = len(x[:,0])\n    grad = np.zeros(N)\n    for p in range(P):\n        c = np.dot(x[:,p],w)\n        k = y[p] * np.exp(-y[p]*c)/(1+np.exp(-y[p]*c)) \n        grad = grad + k * x[:,p]\n    grad = -grad/P\n    return grad",
      "metadata": {
        "trusted": true
      },
      "execution_count": null,
      "outputs": []
    },
    {
      "cell_type": "code",
      "source": "def gradient_descent(w,x,y,alpha,max_its):\n    w_history =[w]\n    cost_history = [g_lr_softmax(w,x,y)]\n    for k in range(max_its):\n        w = w - alpha * grad_lr_softmax(w,x,y)\n        w_history.append(w)\n        cost_history.append(g_lr_softmax(w,x,y))\n        #print('cost = ',g_lr_softmax(w,x,y))\n        #print('w', w)\n        #print('grad',grad_lr_softmax(w,x,y) )\n    return w_history,cost_history",
      "metadata": {
        "trusted": true
      },
      "execution_count": null,
      "outputs": []
    },
    {
      "cell_type": "code",
      "source": "#abaixo temos cada uma das mesmas funções para a utilização do SVM\n\n# def g_lr_svm(w,x,y):\n#     P = len(x[0,:])\n#     # N = len(x[:,0])\n#     cost = 0\n#     for p in range(P):\n#         c = np.dot(x[:,p],w)\n#         cost = cost + np.log(1+np.exp(1-y[p]*c))\n#     cost = cost/P\n#     return cost\n\n# def grad_lr_svm(w,x,y):\n#     P = len(x[0,:])\n#     N = len(x[:,0])\n#     grad = np.zeros(N)\n#     for p in range(P):\n#         c = np.dot(x[:,p],w)\n#         k = y[p] * np.exp(1 -y[p]*c)/(1+np.exp(1 - y[p]*c)) \n#         grad = grad + k * x[:,p]\n#     grad = -grad/P\n#     return grad\n\n# def gradient_descent_svm(w,x,y,alpha,max_its):\n#     w_history =[w]\n#     cost_history = [g_lr_svm(w,x,y)]\n#     for k in range(max_its):\n#         w = w - alpha * grad_lr_svm(w,x,y)\n#         w_history.append(w)\n#         cost_history.append(g_lr_svm(w,x,y))\n#         print('cost = ',g_lr_svm(w,x,y))\n#     return w_history, cost_history",
      "metadata": {
        "trusted": true
      },
      "execution_count": null,
      "outputs": []
    },
    {
      "cell_type": "code",
      "source": "#probabilidade da função lr com SVM e softmax\ndef probabilidade(w,x):\n    d = x[0]*w[0] + x[1]*w[1] + x[2]*w[2]\n    p = 1 / (1+np.exp(-d))\n    return p",
      "metadata": {
        "trusted": true
      },
      "execution_count": null,
      "outputs": []
    },
    {
      "cell_type": "code",
      "source": "#definindo individualmente cada um dos elementos da matriz de confusão\ndef matriz_conf(w,X,Y,limiar):\n    P = len(X[0,:])\n    TP = 0\n    TN = 0\n    FP = 0\n    FN = 0\n    limiar = limiar / 100\n    for i in range(P):\n        pb = probabilidade(w,X[:,i])\n        if pb > limiar:\n            if Y[i] > 0:\n                TP = TP+1\n            else:\n                FP = FP+1\n        else:\n            if Y[i] > 0:\n                FN = FN+1\n            else:\n                N = TN+1\n    return TP,FP,TN,FN",
      "metadata": {
        "trusted": true
      },
      "execution_count": null,
      "outputs": []
    },
    {
      "cell_type": "code",
      "source": "[w,cost] = gradient_descent(w, X, Y, alpha, max_its)\n#o valor w obtido pela otimização corresponde a w[499]\n#onde ax + by + c = 0 é representeado por w[499][2]a + w[499][1]b + ...\n\nprint(w)\nW = w[499]",
      "metadata": {
        "trusted": true
      },
      "execution_count": null,
      "outputs": []
    },
    {
      "cell_type": "code",
      "source": "#para o calculo da acuracia \nfor limiar in range (100):\n    [TP,FP,TN,FN] = matriz_conf(W,X,Y,limiar)\n    m = [[TP, FP], [TN, FN]]\n    print('Matriz de Confusão\\n', np.matrix(m)) #o plot está desalinhado\n    \n#para o calculo da acuracia balanceada \nfor limiar in range (100):\n    [TP,FP,TN,FN] = matriz_conf(W,X,Y,limiar)\n    acur_balanceada  = 1/2 * (TP/(TP + FN) + TN/(TP + FP))\n    print('Acurárica Balanceada: ', acur_balanceada)",
      "metadata": {
        "trusted": true
      },
      "execution_count": null,
      "outputs": []
    },
    {
      "cell_type": "code",
      "source": "",
      "metadata": {},
      "execution_count": null,
      "outputs": []
    },
    {
      "cell_type": "code",
      "source": "",
      "metadata": {},
      "execution_count": null,
      "outputs": []
    }
  ]
}