{
  "metadata": {
    "colab": {
      "provenance": [],
      "authorship_tag": "ABX9TyOsFoBnUUiAtRU10TEHD84x"
    },
    "kernelspec": {
      "name": "python",
      "display_name": "Python (Pyodide)",
      "language": "python"
    },
    "language_info": {
      "codemirror_mode": {
        "name": "python",
        "version": 3
      },
      "file_extension": ".py",
      "mimetype": "text/x-python",
      "name": "python",
      "nbconvert_exporter": "python",
      "pygments_lexer": "ipython3",
      "version": "3.8"
    }
  },
  "nbformat_minor": 4,
  "nbformat": 4,
  "cells": [
    {
      "cell_type": "markdown",
      "source": "# **Lista 1 - Ex 11**\n\nVamos aplicar o método de k-means.\n\nBasta ter na cabeça que vamos considerar uma amostra inicial aleatória de clusters. Então:\n\n\n1.   Classificamos cada ponto com base na distância de cada ponto com cada cluster\n2.   Recalculamos os clusters, através da média dos pontos que foram classificados em cada um dos clusters\n3.   Voltamos ao passo 1.\n\n\n\n",
      "metadata": {
        "id": "j_oLyoTuAS3D"
      }
    },
    {
      "cell_type": "code",
      "source": "import numpy as np\nimport matplotlib.pyplot as plt\n\n#Criando os Pontos\ndef pontos2D(P):\n  X = [2*np.random.random_sample(P,)-1, 2*np.random.random_sample(P,)-1]\n  X = np.array(X)\n\n  add = 0.2\n\n  for p in range(P):\n    if (X[0][p] > 0) & (X[1][p] > 0):\n      X[0][p] += add\n      X[1][p] += add\n    \n    elif (X[0][p] < 0) & (X[1][p] > 0):\n      X[0][p] -= add\n      X[1][p] += add\n    \n    elif (X[0][p] > 0) & (X[1][p] < 0):\n      X[0][p] += add\n      X[1][p] -= add\n\n    else:\n      X[0][p] -= add\n      X[1][p] -= add\n  \n  return X\n",
      "metadata": {
        "id": "4RbrW0QMaZFB",
        "trusted": true
      },
      "execution_count": null,
      "outputs": []
    },
    {
      "cell_type": "code",
      "source": "# Distância entre dois pontos\ndef dist(X,Y):\n  return np.sqrt((X[0]-Y[0])**2 + (X[1]-Y[1])**2)\n\n# Calculando a média dos pontos dentro de um cluster - Recalculando os Clusters\ndef media(X):\n  soma_x_0 = 0\n  soma_x_1 = 0\n  for p in range(len(X)):\n    soma_x_0 += X[p][0]\n    soma_x_1 += X[p][1]\n  soma_x_0 = soma_x_0/len(X)\n  soma_x_1 = soma_x_1/len(X)\n  return [soma_x_0,soma_x_1]\n\n# Vendo os pontos pertencentes a cada um dos centroides\ndef pontos_centroides(x,P,K,CK):\n  # Criando vetor para colocar os pontos organizados por cluster\n  pts_ck = []\n  for k in range(K):\n    pts_ck.append([])\n\n  # Classificando os pontos \n  for p in range(P):\n    # Vendo qual clusters tem a distância mínima com o ponto\n    dist_min = dist(Ck[0],X[:,p])\n    ind_min = 0\n\n    for c in range(len(Ck)-1):\n      d = dist(Ck[c+1],X[:,p])\n      if d < dist_min:\n        ind_min = c+1\n        dist_min = d\n    \n    # Adicionando o ponto ao seu respectivo lugar na classificação\n    pts_ck[ind_min].append(X[:,p])\n\n  return pts_ck\n\n\n# Aplicando o método\ndef k_means(X,P,K,Ck,max_its):\n  \n  pts_ck = pontos_centroides(X,P,K,Ck) #Classificando os pontos\n  \n  for i in range(max_its):\n    # Calculando novos clusters\n    for j in range(K):\n      Ck[j] = media(pts_ck[j])     \n    pts_ck = pontos_centroides(X,P,K, Ck) # Reclassificando os pontos\n\n  return Ck, pts_ck\n\n",
      "metadata": {
        "id": "bbkfZDm3ou7l",
        "trusted": true
      },
      "execution_count": null,
      "outputs": []
    },
    {
      "cell_type": "code",
      "source": "# 3 CLUSTERS\nP = 200\nX = pontos2D(P)\nK = 3 # Número de clusters\nmax_its = 100\n\n#Definindo os centroides iniciais\nCk = []\nfor i in range(K):\n  Ck.append([X[0][i],X[1][i]])\n\n# Executando o Método\n[Ck, pts_ck] = k_means(X,P,K,Ck,max_its)\n\n# Plotando os dados:\nvet_cores = ['r','g','orange','purple','blue','yellow']\nplt.figure(figsize =(8,8))\n\nfor k in range(K):\n  for i in range(len(pts_ck[k])):\n    plt.scatter(pts_ck[k][i][0],pts_ck[k][i][1], c = vet_cores[k])\n  plt.scatter(Ck[k][0],Ck[k][1],c='black',marker='^')\nplt.show()",
      "metadata": {
        "colab": {
          "base_uri": "https://localhost:8080/",
          "height": 483
        },
        "id": "shdDzn6T0NBW",
        "executionInfo": {
          "status": "ok",
          "timestamp": 1667115350426,
          "user_tz": 180,
          "elapsed": 1215,
          "user": {
            "displayName": "Vinicius Costa",
            "userId": "08335764191118820638"
          }
        },
        "outputId": "30b4d0a8-2aa2-4847-e4f4-1b02dfe07e77",
        "trusted": true
      },
      "execution_count": null,
      "outputs": []
    },
    {
      "cell_type": "code",
      "source": "# 4 CLUSTERS\nP = 200\nX = pontos2D(P)\nK = 4 # Número de clusters\nmax_its = 100\n\n#Definindo os centroides iniciais\nCk = []\nfor i in range(K):\n  Ck.append([X[0][i],X[1][i]])\n\n# Executando o Método\n[Ck, pts_ck] = k_means(X,P,K,Ck,max_its)\n\n# Plotando os dados:\nvet_cores = ['r','g','orange','purple','blue','yellow']\nplt.figure(figsize =(8,8))\n\nfor k in range(K):\n  for i in range(len(pts_ck[k])):\n    plt.scatter(pts_ck[k][i][0],pts_ck[k][i][1], c = vet_cores[k])\n  plt.scatter(Ck[k][0],Ck[k][1],c='black',marker='^')\nplt.show()",
      "metadata": {
        "colab": {
          "base_uri": "https://localhost:8080/",
          "height": 483
        },
        "id": "PcTY4TSymn_m",
        "executionInfo": {
          "status": "ok",
          "timestamp": 1667115251291,
          "user_tz": 180,
          "elapsed": 1273,
          "user": {
            "displayName": "Vinicius Costa",
            "userId": "08335764191118820638"
          }
        },
        "outputId": "927db7da-376e-4355-e91b-4578e6683781",
        "trusted": true
      },
      "execution_count": null,
      "outputs": []
    },
    {
      "cell_type": "code",
      "source": "# 5 CLUSTERS\nP = 200\nX = pontos2D(P)\nK = 5 # Número de clusters\nmax_its = 100\n\n#Definindo os centroides iniciais\nCk = []\nfor i in range(K):\n  Ck.append([X[0][i],X[1][i]])\n\n# Executando o Método\n[Ck, pts_ck] = k_means(X,P,K,Ck,max_its)\n\n# Plotando os dados:\nvet_cores = ['r','g','orange','purple','blue','yellow']\nplt.figure(figsize =(8,8))\n\nfor k in range(K):\n  for i in range(len(pts_ck[k])):\n    plt.scatter(pts_ck[k][i][0],pts_ck[k][i][1], c = vet_cores[k])\n  plt.scatter(Ck[k][0],Ck[k][1],c='black',marker='^')\nplt.show()",
      "metadata": {
        "colab": {
          "base_uri": "https://localhost:8080/",
          "height": 483
        },
        "id": "7wFXA-HB0NJd",
        "executionInfo": {
          "status": "ok",
          "timestamp": 1667115376721,
          "user_tz": 180,
          "elapsed": 1509,
          "user": {
            "displayName": "Vinicius Costa",
            "userId": "08335764191118820638"
          }
        },
        "outputId": "6a2bce46-f16b-4117-e2f0-d528afa9d00c",
        "trusted": true
      },
      "execution_count": null,
      "outputs": []
    },
    {
      "cell_type": "code",
      "source": "",
      "metadata": {},
      "execution_count": null,
      "outputs": []
    }
  ]
}